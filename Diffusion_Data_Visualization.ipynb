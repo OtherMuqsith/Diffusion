{
  "nbformat": 4,
  "nbformat_minor": 0,
  "metadata": {
    "colab": {
      "name": "Diffusion Data Visualization",
      "provenance": [],
      "collapsed_sections": [],
      "include_colab_link": true
    },
    "kernelspec": {
      "name": "python3",
      "display_name": "Python 3"
    },
    "language_info": {
      "name": "python"
    }
  },
  "cells": [
    {
      "cell_type": "markdown",
      "metadata": {
        "id": "view-in-github",
        "colab_type": "text"
      },
      "source": [
        "<a href=\"https://colab.research.google.com/github/OtherMuqsith/Diffusion/blob/main/Diffusion_Data_Visualization.ipynb\" target=\"_parent\"><img src=\"https://colab.research.google.com/assets/colab-badge.svg\" alt=\"Open In Colab\"/></a>"
      ]
    },
    {
      "cell_type": "code",
      "source": [
        "import numpy as np\n",
        "import matplotlib.pylab as plt\n",
        "import re\n",
        "import pandas as pd"
      ],
      "metadata": {
        "id": "gZ3krN71ZQk-"
      },
      "execution_count": 16,
      "outputs": []
    },
    {
      "cell_type": "code",
      "source": [
        "daFile = open('test05.yaml', 'r')\n",
        "lines = daFile.readlines()\n",
        "\n",
        "widths = []\n",
        "jobIDs = []\n",
        "for line in lines: \n",
        "  # width \n",
        "  # \"    d: 5.5\"\n",
        "  daSplit = re.split(\"^\\s+d:\\s+(\\d+\\.\\d+)\",line)\n",
        "\n",
        "  if len(daSplit)>1:\n",
        "    width = float( daSplit[1] )\n",
        "    widths.append(width)\n",
        "\n",
        "\n",
        "  # job number\n",
        "  #job_id: \"0002\" \n",
        "  daSplit = re.split(\"^\\s+job_id:\\s+\\\"(\\d+)\\\"\",line)\n",
        "  if len(daSplit)>1:\n",
        "    id = daSplit[1] \n",
        "    jobIDs.append(id)\n",
        "\n",
        "df = pd.read_csv(\"results.csv\")\n",
        "df['widths'] = widths\n",
        "\n",
        "widths = np.asarray( df['widths'] )\n",
        "Deff_slot = np.asarray( df['Deff_slot'] )\n"
      ],
      "metadata": {
        "id": "b8PGGVWfcWl9"
      },
      "execution_count": 17,
      "outputs": []
    },
    {
      "cell_type": "code",
      "source": [
        "df"
      ],
      "metadata": {
        "colab": {
          "base_uri": "https://localhost:8080/",
          "height": 419
        },
        "id": "cYYXPDhbeoxm",
        "outputId": "c8524165-89e3-40ae-b7fa-7943dd362833"
      },
      "execution_count": 9,
      "outputs": [
        {
          "output_type": "execute_result",
          "data": {
            "text/plain": [
              "    Unnamed: 0  job_id  minsep  Deff_membrane  Deff_slot  phi_membrane  \\\n",
              "0            0       1  1000.0       0.001863   0.007454      0.244220   \n",
              "1            1       2  1000.0       0.001907   0.007479      0.249270   \n",
              "2            2       3  1000.0       0.001952   0.007503      0.254321   \n",
              "3            3       4  1000.0       0.001992   0.007514      0.259371   \n",
              "4            4       5  1000.0       0.002034   0.007526      0.264422   \n",
              "..         ...     ...     ...            ...        ...           ...   \n",
              "95          95      96  1000.0       0.005739   0.007864      0.724018   \n",
              "96          96      97  1000.0       0.005784   0.007871      0.729068   \n",
              "97          97      98  1000.0       0.005825   0.007873      0.734119   \n",
              "98          98      99  1000.0       0.005859   0.007865      0.739169   \n",
              "99          99     100  1000.0       0.005901   0.007868      0.744220   \n",
              "\n",
              "    phi_slot    widths  \n",
              "0   0.976878  3.000000  \n",
              "1   0.977336  3.060606  \n",
              "2   0.977776  3.121212  \n",
              "3   0.978199  3.181818  \n",
              "4   0.978607  3.242424  \n",
              "..       ...       ...  \n",
              "95  0.992079  8.757576  \n",
              "96  0.992134  8.818182  \n",
              "97  0.992187  8.878788  \n",
              "98  0.992240  8.939394  \n",
              "99  0.992293  9.000000  \n",
              "\n",
              "[100 rows x 8 columns]"
            ],
            "text/html": [
              "\n",
              "  <div id=\"df-de8087cc-c95e-415a-a1fb-8ee9c393e917\">\n",
              "    <div class=\"colab-df-container\">\n",
              "      <div>\n",
              "<style scoped>\n",
              "    .dataframe tbody tr th:only-of-type {\n",
              "        vertical-align: middle;\n",
              "    }\n",
              "\n",
              "    .dataframe tbody tr th {\n",
              "        vertical-align: top;\n",
              "    }\n",
              "\n",
              "    .dataframe thead th {\n",
              "        text-align: right;\n",
              "    }\n",
              "</style>\n",
              "<table border=\"1\" class=\"dataframe\">\n",
              "  <thead>\n",
              "    <tr style=\"text-align: right;\">\n",
              "      <th></th>\n",
              "      <th>Unnamed: 0</th>\n",
              "      <th>job_id</th>\n",
              "      <th>minsep</th>\n",
              "      <th>Deff_membrane</th>\n",
              "      <th>Deff_slot</th>\n",
              "      <th>phi_membrane</th>\n",
              "      <th>phi_slot</th>\n",
              "      <th>widths</th>\n",
              "    </tr>\n",
              "  </thead>\n",
              "  <tbody>\n",
              "    <tr>\n",
              "      <th>0</th>\n",
              "      <td>0</td>\n",
              "      <td>1</td>\n",
              "      <td>1000.0</td>\n",
              "      <td>0.001863</td>\n",
              "      <td>0.007454</td>\n",
              "      <td>0.244220</td>\n",
              "      <td>0.976878</td>\n",
              "      <td>3.000000</td>\n",
              "    </tr>\n",
              "    <tr>\n",
              "      <th>1</th>\n",
              "      <td>1</td>\n",
              "      <td>2</td>\n",
              "      <td>1000.0</td>\n",
              "      <td>0.001907</td>\n",
              "      <td>0.007479</td>\n",
              "      <td>0.249270</td>\n",
              "      <td>0.977336</td>\n",
              "      <td>3.060606</td>\n",
              "    </tr>\n",
              "    <tr>\n",
              "      <th>2</th>\n",
              "      <td>2</td>\n",
              "      <td>3</td>\n",
              "      <td>1000.0</td>\n",
              "      <td>0.001952</td>\n",
              "      <td>0.007503</td>\n",
              "      <td>0.254321</td>\n",
              "      <td>0.977776</td>\n",
              "      <td>3.121212</td>\n",
              "    </tr>\n",
              "    <tr>\n",
              "      <th>3</th>\n",
              "      <td>3</td>\n",
              "      <td>4</td>\n",
              "      <td>1000.0</td>\n",
              "      <td>0.001992</td>\n",
              "      <td>0.007514</td>\n",
              "      <td>0.259371</td>\n",
              "      <td>0.978199</td>\n",
              "      <td>3.181818</td>\n",
              "    </tr>\n",
              "    <tr>\n",
              "      <th>4</th>\n",
              "      <td>4</td>\n",
              "      <td>5</td>\n",
              "      <td>1000.0</td>\n",
              "      <td>0.002034</td>\n",
              "      <td>0.007526</td>\n",
              "      <td>0.264422</td>\n",
              "      <td>0.978607</td>\n",
              "      <td>3.242424</td>\n",
              "    </tr>\n",
              "    <tr>\n",
              "      <th>...</th>\n",
              "      <td>...</td>\n",
              "      <td>...</td>\n",
              "      <td>...</td>\n",
              "      <td>...</td>\n",
              "      <td>...</td>\n",
              "      <td>...</td>\n",
              "      <td>...</td>\n",
              "      <td>...</td>\n",
              "    </tr>\n",
              "    <tr>\n",
              "      <th>95</th>\n",
              "      <td>95</td>\n",
              "      <td>96</td>\n",
              "      <td>1000.0</td>\n",
              "      <td>0.005739</td>\n",
              "      <td>0.007864</td>\n",
              "      <td>0.724018</td>\n",
              "      <td>0.992079</td>\n",
              "      <td>8.757576</td>\n",
              "    </tr>\n",
              "    <tr>\n",
              "      <th>96</th>\n",
              "      <td>96</td>\n",
              "      <td>97</td>\n",
              "      <td>1000.0</td>\n",
              "      <td>0.005784</td>\n",
              "      <td>0.007871</td>\n",
              "      <td>0.729068</td>\n",
              "      <td>0.992134</td>\n",
              "      <td>8.818182</td>\n",
              "    </tr>\n",
              "    <tr>\n",
              "      <th>97</th>\n",
              "      <td>97</td>\n",
              "      <td>98</td>\n",
              "      <td>1000.0</td>\n",
              "      <td>0.005825</td>\n",
              "      <td>0.007873</td>\n",
              "      <td>0.734119</td>\n",
              "      <td>0.992187</td>\n",
              "      <td>8.878788</td>\n",
              "    </tr>\n",
              "    <tr>\n",
              "      <th>98</th>\n",
              "      <td>98</td>\n",
              "      <td>99</td>\n",
              "      <td>1000.0</td>\n",
              "      <td>0.005859</td>\n",
              "      <td>0.007865</td>\n",
              "      <td>0.739169</td>\n",
              "      <td>0.992240</td>\n",
              "      <td>8.939394</td>\n",
              "    </tr>\n",
              "    <tr>\n",
              "      <th>99</th>\n",
              "      <td>99</td>\n",
              "      <td>100</td>\n",
              "      <td>1000.0</td>\n",
              "      <td>0.005901</td>\n",
              "      <td>0.007868</td>\n",
              "      <td>0.744220</td>\n",
              "      <td>0.992293</td>\n",
              "      <td>9.000000</td>\n",
              "    </tr>\n",
              "  </tbody>\n",
              "</table>\n",
              "<p>100 rows × 8 columns</p>\n",
              "</div>\n",
              "      <button class=\"colab-df-convert\" onclick=\"convertToInteractive('df-de8087cc-c95e-415a-a1fb-8ee9c393e917')\"\n",
              "              title=\"Convert this dataframe to an interactive table.\"\n",
              "              style=\"display:none;\">\n",
              "        \n",
              "  <svg xmlns=\"http://www.w3.org/2000/svg\" height=\"24px\"viewBox=\"0 0 24 24\"\n",
              "       width=\"24px\">\n",
              "    <path d=\"M0 0h24v24H0V0z\" fill=\"none\"/>\n",
              "    <path d=\"M18.56 5.44l.94 2.06.94-2.06 2.06-.94-2.06-.94-.94-2.06-.94 2.06-2.06.94zm-11 1L8.5 8.5l.94-2.06 2.06-.94-2.06-.94L8.5 2.5l-.94 2.06-2.06.94zm10 10l.94 2.06.94-2.06 2.06-.94-2.06-.94-.94-2.06-.94 2.06-2.06.94z\"/><path d=\"M17.41 7.96l-1.37-1.37c-.4-.4-.92-.59-1.43-.59-.52 0-1.04.2-1.43.59L10.3 9.45l-7.72 7.72c-.78.78-.78 2.05 0 2.83L4 21.41c.39.39.9.59 1.41.59.51 0 1.02-.2 1.41-.59l7.78-7.78 2.81-2.81c.8-.78.8-2.07 0-2.86zM5.41 20L4 18.59l7.72-7.72 1.47 1.35L5.41 20z\"/>\n",
              "  </svg>\n",
              "      </button>\n",
              "      \n",
              "  <style>\n",
              "    .colab-df-container {\n",
              "      display:flex;\n",
              "      flex-wrap:wrap;\n",
              "      gap: 12px;\n",
              "    }\n",
              "\n",
              "    .colab-df-convert {\n",
              "      background-color: #E8F0FE;\n",
              "      border: none;\n",
              "      border-radius: 50%;\n",
              "      cursor: pointer;\n",
              "      display: none;\n",
              "      fill: #1967D2;\n",
              "      height: 32px;\n",
              "      padding: 0 0 0 0;\n",
              "      width: 32px;\n",
              "    }\n",
              "\n",
              "    .colab-df-convert:hover {\n",
              "      background-color: #E2EBFA;\n",
              "      box-shadow: 0px 1px 2px rgba(60, 64, 67, 0.3), 0px 1px 3px 1px rgba(60, 64, 67, 0.15);\n",
              "      fill: #174EA6;\n",
              "    }\n",
              "\n",
              "    [theme=dark] .colab-df-convert {\n",
              "      background-color: #3B4455;\n",
              "      fill: #D2E3FC;\n",
              "    }\n",
              "\n",
              "    [theme=dark] .colab-df-convert:hover {\n",
              "      background-color: #434B5C;\n",
              "      box-shadow: 0px 1px 3px 1px rgba(0, 0, 0, 0.15);\n",
              "      filter: drop-shadow(0px 1px 2px rgba(0, 0, 0, 0.3));\n",
              "      fill: #FFFFFF;\n",
              "    }\n",
              "  </style>\n",
              "\n",
              "      <script>\n",
              "        const buttonEl =\n",
              "          document.querySelector('#df-de8087cc-c95e-415a-a1fb-8ee9c393e917 button.colab-df-convert');\n",
              "        buttonEl.style.display =\n",
              "          google.colab.kernel.accessAllowed ? 'block' : 'none';\n",
              "\n",
              "        async function convertToInteractive(key) {\n",
              "          const element = document.querySelector('#df-de8087cc-c95e-415a-a1fb-8ee9c393e917');\n",
              "          const dataTable =\n",
              "            await google.colab.kernel.invokeFunction('convertToInteractive',\n",
              "                                                     [key], {});\n",
              "          if (!dataTable) return;\n",
              "\n",
              "          const docLinkHtml = 'Like what you see? Visit the ' +\n",
              "            '<a target=\"_blank\" href=https://colab.research.google.com/notebooks/data_table.ipynb>data table notebook</a>'\n",
              "            + ' to learn more about interactive tables.';\n",
              "          element.innerHTML = '';\n",
              "          dataTable['output_type'] = 'display_data';\n",
              "          await google.colab.output.renderOutput(dataTable, element);\n",
              "          const docLink = document.createElement('div');\n",
              "          docLink.innerHTML = docLinkHtml;\n",
              "          element.appendChild(docLink);\n",
              "        }\n",
              "      </script>\n",
              "    </div>\n",
              "  </div>\n",
              "  "
            ]
          },
          "metadata": {},
          "execution_count": 9
        }
      ]
    },
    {
      "cell_type": "code",
      "source": [
        "plt.xlabel(\"Slot Width (nm)\")\n",
        "plt.ylabel(r'$D_{eff}$')\n",
        "plt.plot( widths, Deff_slot)"
      ],
      "metadata": {
        "colab": {
          "base_uri": "https://localhost:8080/",
          "height": 296
        },
        "id": "DW1Yfd6xff1H",
        "outputId": "a82d3e42-030e-45c5-bd4f-7b9f7591678a"
      },
      "execution_count": 18,
      "outputs": [
        {
          "output_type": "execute_result",
          "data": {
            "text/plain": [
              "[<matplotlib.lines.Line2D at 0x7f5a1aab2190>]"
            ]
          },
          "metadata": {},
          "execution_count": 18
        },
        {
          "output_type": "display_data",
          "data": {
            "text/plain": [
              "<Figure size 432x288 with 1 Axes>"
            ],
            "image/png": "[encoded data removed]"
          },
          "metadata": {
            "needs_background": "light"
          }
        }
      ]
    },
    {
      "cell_type": "code",
      "source": [
        "plt.xlabel(\"Free Volume \\u03A6\")\n",
        "plt.ylabel(r'$D_{eff}$')\n",
        "plt.plot( df['phi_slot'], df['Deff_slot'])"
      ],
      "metadata": {
        "colab": {
          "base_uri": "https://localhost:8080/",
          "height": 296
        },
        "id": "vy5WgADrgKW7",
        "outputId": "c0d7e7df-af2d-4409-f251-c197986ca106"
      },
      "execution_count": 19,
      "outputs": [
        {
          "output_type": "execute_result",
          "data": {
            "text/plain": [
              "[<matplotlib.lines.Line2D at 0x7f5a1abfb410>]"
            ]
          },
          "metadata": {},
          "execution_count": 19
        },
        {
          "output_type": "display_data",
          "data": {
            "text/plain": [
              "<Figure size 432x288 with 1 Axes>"
            ],
            "image/png": "[encoded data removed]"
          },
          "metadata": {
            "needs_background": "light"
          }
        }
      ]
    },
    {
      "cell_type": "code",
      "source": [
        "plt.plot( df['widths'], df['phi_slot'])"
      ],
      "metadata": {
        "id": "uPbcvAzfgPSY",
        "colab": {
          "base_uri": "https://localhost:8080/",
          "height": 282
        },
        "outputId": "388f0987-7f3d-4cab-d9a3-1ec49853e1a5"
      },
      "execution_count": 13,
      "outputs": [
        {
          "output_type": "execute_result",
          "data": {
            "text/plain": [
              "[<matplotlib.lines.Line2D at 0x7f5a1ad4ecd0>]"
            ]
          },
          "metadata": {},
          "execution_count": 13
        },
        {
          "output_type": "display_data",
          "data": {
            "text/plain": [
              "<Figure size 432x288 with 1 Axes>"
            ],
            "image/png": "[encoded data removed]"
          },
          "metadata": {
            "needs_background": "light"
          }
        }
      ]
    }
  ]
}